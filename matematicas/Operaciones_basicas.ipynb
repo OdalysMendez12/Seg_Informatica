{
 "cells": [
  {
   "cell_type": "code",
   "execution_count": 1,
   "id": "eb4bc8c6",
   "metadata": {},
   "outputs": [
    {
     "name": "stdout",
     "output_type": "stream",
     "text": [
      "Ingresa el primer número: 5\n",
      "Ingresa el segundo número: 6\n",
      "La suma de tus números es: 11\n"
     ]
    }
   ],
   "source": [
    "valor1 = int(input(\"Ingresa el primer número: \"))\n",
    "valor2 = int(input(\"Ingresa el segundo número: \"))\n",
    "from modulo_sumas import resultado_suma\n",
    "print(f\"La suma de tus números es: {(resultado_suma(valor1, valor2))}\")"
   ]
  },
  {
   "cell_type": "code",
   "execution_count": 14,
   "id": "e2a6d57d",
   "metadata": {
    "scrolled": false
   },
   "outputs": [
    {
     "name": "stdout",
     "output_type": "stream",
     "text": [
      "Ingresa el primer número: 9\n",
      "Ingresa el segundo número: 2\n",
      "La resta de tus números es: 7\n"
     ]
    }
   ],
   "source": [
    "valor1 = int(input(\"Ingresa el primer número: \"))\n",
    "valor2 = int(input(\"Ingresa el segundo número: \"))\n",
    "from modulo_restas import resultado_resta\n",
    "print(f\"La resta de tus números es: {(resultado_resta(valor1, valor2))}\")"
   ]
  },
  {
   "cell_type": "code",
   "execution_count": 15,
   "id": "50ecdca5",
   "metadata": {},
   "outputs": [
    {
     "name": "stdout",
     "output_type": "stream",
     "text": [
      "Ingresa el primer número: 5\n",
      "Ingresa el segundo número: 3\n",
      "La multiplicación de tus números es: 15\n"
     ]
    }
   ],
   "source": [
    "valor1 = int(input(\"Ingresa el primer número: \"))\n",
    "valor2 = int(input(\"Ingresa el segundo número: \"))\n",
    "from modulo_multiplicaciones import resultado_mult\n",
    "print(f\"La multiplicación de tus números es: {(resultado_mult(valor1, valor2))}\")"
   ]
  },
  {
   "cell_type": "code",
   "execution_count": 18,
   "id": "38f5528d",
   "metadata": {},
   "outputs": [
    {
     "name": "stdout",
     "output_type": "stream",
     "text": [
      "Ingresa algún número: 10\n",
      "La raíz cuadrada de tu número es: 3.1622776601683795\n"
     ]
    }
   ],
   "source": [
    "valor1 = int(input(\"Ingresa algún número: \"))\n",
    "from modulo_raices import resultado_raiz\n",
    "print(f\"La raíz cuadrada de tu número es: {(resultado_raiz(valor1))}\")"
   ]
  },
  {
   "cell_type": "code",
   "execution_count": 19,
   "id": "ba95cb5e",
   "metadata": {
    "scrolled": true
   },
   "outputs": [
    {
     "name": "stdout",
     "output_type": "stream",
     "text": [
      "Ingresa algún número: 5\n",
      "Ingresa la potencia a elevar el número anterior: 2\n",
      "La potencia de tú número es: 25\n"
     ]
    }
   ],
   "source": [
    "valor1 = int(input(\"Ingresa algún número: \"))\n",
    "valor2 = int(input(\"Ingresa la potencia a elevar el número anterior: \"))\n",
    "from modulo_potencias import resultado_pot\n",
    "print(f\"La potencia de tú número es: {(resultado_pot(valor1, valor2))}\")\n"
   ]
  }
 ],
 "metadata": {
  "kernelspec": {
   "display_name": "Python 3 (ipykernel)",
   "language": "python",
   "name": "python3"
  },
  "language_info": {
   "codemirror_mode": {
    "name": "ipython",
    "version": 3
   },
   "file_extension": ".py",
   "mimetype": "text/x-python",
   "name": "python",
   "nbconvert_exporter": "python",
   "pygments_lexer": "ipython3",
   "version": "3.11.4"
  }
 },
 "nbformat": 4,
 "nbformat_minor": 5
}
