{
 "cells": [
  {
   "cell_type": "code",
   "execution_count": 17,
   "id": "f1c16ee8",
   "metadata": {
    "scrolled": true
   },
   "outputs": [
    {
     "name": "stdout",
     "output_type": "stream",
     "text": [
      "Odalys\n",
      "Mendez\n",
      "Torres\n",
      "20\n",
      "1.6\n",
      "50\n"
     ]
    }
   ],
   "source": [
    "persona = {\n",
    "    \"nombre\": \"Odalys\",\n",
    "    \"apellido_p\": \"Mendez\",\n",
    "    \"apellido_m\": \"Torres\",\n",
    "    \"edad\": 20,\n",
    "    \"estatura\": 1.60,\n",
    "    \"peso\": 50\n",
    "}\n",
    "print(persona[\"nombre\"])\n",
    "print(persona[ \"apellido_p\"])\n",
    "print(persona[\"apellido_m\"])\n",
    "print(persona[\"edad\"])\n",
    "print(persona[\"estatura\"])\n",
    "print(persona[\"peso\"])"
   ]
  },
  {
   "cell_type": "code",
   "execution_count": 18,
   "id": "ccbdbb50",
   "metadata": {},
   "outputs": [],
   "source": [
    "#Fórmula para el imc = peso/estatura^2\n",
    "def imc(peso, estatura):\n",
    "    return (peso/estatura**2)\n",
    "persona_imc = (imc(persona[\"peso\"], persona[\"estatura\"]))"
   ]
  },
  {
   "cell_type": "code",
   "execution_count": 19,
   "id": "041a5ef1",
   "metadata": {},
   "outputs": [
    {
     "name": "stdout",
     "output_type": "stream",
     "text": [
      "Tienes un peso normal.\n"
     ]
    }
   ],
   "source": [
    "def nivel_peso(p_imc):\n",
    "    if p_imc < 18.5:\n",
    "        print(\"Tienes bajo peso.\")\n",
    "    elif p_imc >= 18.5 and p_imc <= 24.9:\n",
    "        print(\"Tienes un peso normal.\")\n",
    "    elif p_imc >= 25 and p_imc <= 29.9:\n",
    "        print(\"Tienes sobrepeso.\")\n",
    "    else:\n",
    "        print(\"Tienes obesidad.\")\n",
    "        \n",
    "nivel_peso(persona_imc)"
   ]
  },
  {
   "cell_type": "code",
   "execution_count": null,
   "id": "0848dd1b",
   "metadata": {
    "scrolled": false
   },
   "outputs": [],
   "source": [
    "import imc_modulo \n",
    "persona = {\n",
    "    \"nombre\": \"Odalys\",\n",
    "    \"apellido_p\": \"Mendez\",\n",
    "    \"apellido_m\": \"Torres\",\n",
    "    \"edad\": 20,\n",
    "    \"estatura\": 1.60,\n",
    "    \"peso\": 50\n",
    "}\n",
    "peso_p = persona[\"peso\"]\n",
    "estatura_p = persona[\"estatura\"]\n",
    "\n",
    "imc_p = imc_modulo.imc(peso_p, estatura_p)\n",
    "\n",
    "imc_modulo.nivel_de_peso(imc_p)\n"
   ]
  },
  {
   "cell_type": "code",
   "execution_count": null,
   "id": "1eb55a10",
   "metadata": {},
   "outputs": [],
   "source": []
  }
 ],
 "metadata": {
  "kernelspec": {
   "display_name": "Python 3 (ipykernel)",
   "language": "python",
   "name": "python3"
  },
  "language_info": {
   "codemirror_mode": {
    "name": "ipython",
    "version": 3
   },
   "file_extension": ".py",
   "mimetype": "text/x-python",
   "name": "python",
   "nbconvert_exporter": "python",
   "pygments_lexer": "ipython3",
   "version": "3.11.4"
  }
 },
 "nbformat": 4,
 "nbformat_minor": 5
}
