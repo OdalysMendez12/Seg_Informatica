{
 "cells": [
  {
   "cell_type": "code",
   "execution_count": 3,
   "id": "e84b0e6c",
   "metadata": {
    "scrolled": true
   },
   "outputs": [
    {
     "name": "stdout",
     "output_type": "stream",
     "text": [
      "Ingresa los datos solicitados.\n",
      "Igresa tus nombre completo: Odalys Mendez Torres\n",
      "Ingresa tu sexo: Mujer\n",
      "Ingresa tu domicilio: Casas del Mar, Calle Mar Negro, Mz 128, Lt 2, C 4\n",
      "Ingresa tu clave de elector: MNTROD03011223M200\n",
      "Ingresa tu CURP: METO030112MQRNRDA4\n",
      "Ingresa tu fecha de nacimiento: 12/01/2003\n",
      "Ingresa tu sección: 1020\n",
      "Ingresa tu año de registro: 2021 00\n",
      "Ingresa ls vigencia de tu credencial: 2021 - 2031\n"
     ]
    }
   ],
   "source": [
    "INE = {\n",
    "    \n",
    "}\n",
    "print(\"Ingresa los datos solicitados.\")\n",
    "INE['nombre'] = input(\"Igresa tus nombre completo: \")\n",
    "INE['sexo'] = input(\"Ingresa tu sexo: \")\n",
    "INE['domicilio'] = input(\"Ingresa tu domicilio: \")\n",
    "INE['clave'] = input(\"Ingresa tu clave de elector: \")\n",
    "INE['curp'] = input(\"Ingresa tu CURP: \")\n",
    "INE['año de registro'] = input(\"Ingresa tu fecha de nacimiento: \")\n",
    "INE['fecha de nacimiento'] = input(\"Ingresa tu sección: \")\n",
    "INE['seccion'] = input(\"Ingresa tu año de registro: \")\n",
    "INE['vigencia'] = input(\"Ingresa ls vigencia de tu credencial: \")"
   ]
  },
  {
   "cell_type": "code",
   "execution_count": 4,
   "id": "442c7f49",
   "metadata": {},
   "outputs": [
    {
     "name": "stdout",
     "output_type": "stream",
     "text": [
      "Datos guardados en el diccionario:\n",
      "nombre: Odalys Mendez Torres\n",
      "sexo: Mujer\n",
      "domicilio: Casas del Mar, Calle Mar Negro, Mz 128, Lt 2, C 4\n",
      "clave: MNTROD03011223M200\n",
      "curp: METO030112MQRNRDA4\n",
      "año de registro: 12/01/2003\n",
      "fecha de nacimiento: 1020\n",
      "seccion: 2021 00\n",
      "vigencia: 2021 - 2031\n",
      "\n"
     ]
    }
   ],
   "source": [
    "with open('Datos_INE.txt', 'w') as archivo:\n",
    "    for solicita, ingresa in INE.items():\n",
    "        archivo.write(f\"{solicita}: {ingresa}\\n\")\n",
    "\n",
    "with open('Datos_INE.txt', 'r', encoding='ISO-8859-1') as archivo:\n",
    "    print(\"Datos guardados en el diccionario:\")\n",
    "    contenido = archivo.read()\n",
    "    print(contenido)"
   ]
  }
 ],
 "metadata": {
  "kernelspec": {
   "display_name": "Python 3 (ipykernel)",
   "language": "python",
   "name": "python3"
  },
  "language_info": {
   "codemirror_mode": {
    "name": "ipython",
    "version": 3
   },
   "file_extension": ".py",
   "mimetype": "text/x-python",
   "name": "python",
   "nbconvert_exporter": "python",
   "pygments_lexer": "ipython3",
   "version": "3.11.4"
  }
 },
 "nbformat": 4,
 "nbformat_minor": 5
}
