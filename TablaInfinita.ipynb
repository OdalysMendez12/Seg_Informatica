{
 "cells": [
  {
   "cell_type": "code",
   "execution_count": 6,
   "id": "0b3006ec",
   "metadata": {},
   "outputs": [
    {
     "name": "stdout",
     "output_type": "stream",
     "text": [
      "Ingresa el inicio del rango: 1\n",
      "Ingresa el final del rango: 5\n",
      "Ingresa el inicio de la tabla: 1\n",
      "Ingresa el final de la tabla: 5\n",
      "La tabla del 1\n",
      "1 x 1 = 1\n",
      "1 x 2 = 2\n",
      "1 x 3 = 3\n",
      "1 x 4 = 4\n",
      "La tabla del 2\n",
      "2 x 1 = 2\n",
      "2 x 2 = 4\n",
      "2 x 3 = 6\n",
      "2 x 4 = 8\n",
      "La tabla del 3\n",
      "3 x 1 = 3\n",
      "3 x 2 = 6\n",
      "3 x 3 = 9\n",
      "3 x 4 = 12\n",
      "La tabla del 4\n",
      "4 x 1 = 4\n",
      "4 x 2 = 8\n",
      "4 x 3 = 12\n",
      "4 x 4 = 16\n"
     ]
    }
   ],
   "source": [
    "inicio_r = int(input(\"Ingresa el inicio del rango: \"))\n",
    "final_r = int(input(\"Ingresa el final del rango: \"))\n",
    "inicio_t = int(input(\"Ingresa el inicio de la tabla: \"))\n",
    "final_t = int(input(\"Ingresa el final de la tabla: \"))\n",
    "\n",
    "def tabla_infinita(inicio_r, final_r, inicio_t, final_t):\n",
    "    for i in range(inicio_r, final_r, +1):\n",
    "        print(f\"La tabla del {i}\")\n",
    "        for (j) in range (inicio_t, final_t, +1):\n",
    "            print(f\"{i} x {j} = {i*j}\")\n",
    "tabla_infinita(inicio_r, final_r, inicio_t, final_t)"
   ]
  }
 ],
 "metadata": {
  "kernelspec": {
   "display_name": "Python 3 (ipykernel)",
   "language": "python",
   "name": "python3"
  },
  "language_info": {
   "codemirror_mode": {
    "name": "ipython",
    "version": 3
   },
   "file_extension": ".py",
   "mimetype": "text/x-python",
   "name": "python",
   "nbconvert_exporter": "python",
   "pygments_lexer": "ipython3",
   "version": "3.11.5"
  }
 },
 "nbformat": 4,
 "nbformat_minor": 5
}
